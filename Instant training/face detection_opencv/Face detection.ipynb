{
 "cells": [
  {
   "cell_type": "code",
   "execution_count": 5,
   "id": "195728dc",
   "metadata": {},
   "outputs": [],
   "source": [
    "import cv2"
   ]
  },
  {
   "cell_type": "code",
   "execution_count": 8,
   "id": "18d1a60e",
   "metadata": {},
   "outputs": [
    {
     "data": {
      "text/plain": [
       "array([[[ 46,  31, 223],\n",
       "        [ 48,  33, 225],\n",
       "        [ 49,  34, 226],\n",
       "        ...,\n",
       "        [226, 231, 230],\n",
       "        [226, 231, 230],\n",
       "        [226, 231, 230]],\n",
       "\n",
       "       [[ 50,  35, 227],\n",
       "        [ 50,  35, 227],\n",
       "        [ 51,  36, 228],\n",
       "        ...,\n",
       "        [226, 231, 230],\n",
       "        [226, 231, 230],\n",
       "        [226, 231, 230]],\n",
       "\n",
       "       [[ 49,  34, 226],\n",
       "        [ 49,  34, 226],\n",
       "        [ 49,  34, 226],\n",
       "        ...,\n",
       "        [226, 231, 230],\n",
       "        [226, 231, 230],\n",
       "        [226, 231, 230]],\n",
       "\n",
       "       ...,\n",
       "\n",
       "       [[146, 141, 150],\n",
       "        [164, 159, 168],\n",
       "        [180, 175, 184],\n",
       "        ...,\n",
       "        [170, 159, 162],\n",
       "        [157, 146, 149],\n",
       "        [170, 159, 162]],\n",
       "\n",
       "       [[142, 135, 142],\n",
       "        [139, 132, 139],\n",
       "        [149, 142, 149],\n",
       "        ...,\n",
       "        [177, 166, 169],\n",
       "        [163, 152, 155],\n",
       "        [162, 151, 154]],\n",
       "\n",
       "       [[149, 142, 149],\n",
       "        [166, 159, 166],\n",
       "        [186, 179, 186],\n",
       "        ...,\n",
       "        [172, 161, 164],\n",
       "        [177, 166, 169],\n",
       "        [188, 177, 180]]], dtype=uint8)"
      ]
     },
     "execution_count": 8,
     "metadata": {},
     "output_type": "execute_result"
    }
   ],
   "source": [
    "img = cv2.imread('photo_2024-04-15_06-14-55.jpg',1) \n",
    "img               "
   ]
  },
  {
   "cell_type": "code",
   "execution_count": 9,
   "id": "886c5ece",
   "metadata": {},
   "outputs": [
    {
     "data": {
      "text/plain": [
       "(960, 1280, 3)"
      ]
     },
     "execution_count": 9,
     "metadata": {},
     "output_type": "execute_result"
    }
   ],
   "source": [
    "img.shape"
   ]
  },
  {
   "cell_type": "code",
   "execution_count": 10,
   "id": "0133a2f6",
   "metadata": {},
   "outputs": [],
   "source": [
    "face_cascade = cv2.CascadeClassifier(cv2.data.haarcascades + 'haarcascade_frontalface_default.xml')\n"
   ]
  },
  {
   "cell_type": "code",
   "execution_count": 11,
   "id": "7273fc17",
   "metadata": {},
   "outputs": [],
   "source": [
    "# Convert the image to grayscale\n",
    "gray_image = cv2.cvtColor(img, cv2.COLOR_BGR2GRAY)\n",
    "\n",
    "# Detect faces\n",
    "faces = face_cascade.detectMultiScale(gray_image, scaleFactor=1.1, minNeighbors=4, minSize=(60, 60))\n",
    "\n",
    "# Draw rectangles around the detected faces\n",
    "for (x, y, w, h) in faces:\n",
    "    cv2.rectangle(img, (x, y), (x+w, y+h), (0, 255, 0), 3)\n",
    "\n",
    "cv2.imshow('first image ',img)\n",
    "k= cv2.waitKey(0)\n",
    "\n",
    "if k == 27:\n",
    "    cv2.destroyAllWindows()\n",
    "    \n",
    "elif k == ord('s'):\n",
    "    cv2.imwrite('ssecand image.jpeg',img)\n",
    "    cv2.destroyAllWindows()"
   ]
  },
  {
   "cell_type": "code",
   "execution_count": null,
   "id": "d3348692",
   "metadata": {},
   "outputs": [],
   "source": [
    "\n",
    "\n"
   ]
  }
 ],
 "metadata": {
  "kernelspec": {
   "display_name": "Python 3 (ipykernel)",
   "language": "python",
   "name": "python3"
  },
  "language_info": {
   "codemirror_mode": {
    "name": "ipython",
    "version": 3
   },
   "file_extension": ".py",
   "mimetype": "text/x-python",
   "name": "python",
   "nbconvert_exporter": "python",
   "pygments_lexer": "ipython3",
   "version": "3.11.5"
  }
 },
 "nbformat": 4,
 "nbformat_minor": 5
}
